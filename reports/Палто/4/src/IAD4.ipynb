{
  "cells": [
    {
      "cell_type": "code",
      "source": [
        "!pip install ucimlrepo"
      ],
      "metadata": {
        "colab": {
          "base_uri": "https://localhost:8080/"
        },
        "id": "A74hXihc-K60",
        "outputId": "564395b7-a358-44c1-dfc5-83001764b51e"
      },
      "id": "A74hXihc-K60",
      "execution_count": 95,
      "outputs": [
        {
          "output_type": "stream",
          "name": "stdout",
          "text": [
            "Requirement already satisfied: ucimlrepo in /usr/local/lib/python3.12/dist-packages (0.0.7)\n",
            "Requirement already satisfied: pandas>=1.0.0 in /usr/local/lib/python3.12/dist-packages (from ucimlrepo) (2.2.2)\n",
            "Requirement already satisfied: certifi>=2020.12.5 in /usr/local/lib/python3.12/dist-packages (from ucimlrepo) (2025.10.5)\n",
            "Requirement already satisfied: numpy>=1.26.0 in /usr/local/lib/python3.12/dist-packages (from pandas>=1.0.0->ucimlrepo) (2.0.2)\n",
            "Requirement already satisfied: python-dateutil>=2.8.2 in /usr/local/lib/python3.12/dist-packages (from pandas>=1.0.0->ucimlrepo) (2.9.0.post0)\n",
            "Requirement already satisfied: pytz>=2020.1 in /usr/local/lib/python3.12/dist-packages (from pandas>=1.0.0->ucimlrepo) (2025.2)\n",
            "Requirement already satisfied: tzdata>=2022.7 in /usr/local/lib/python3.12/dist-packages (from pandas>=1.0.0->ucimlrepo) (2025.2)\n",
            "Requirement already satisfied: six>=1.5 in /usr/local/lib/python3.12/dist-packages (from python-dateutil>=2.8.2->pandas>=1.0.0->ucimlrepo) (1.17.0)\n"
          ]
        }
      ]
    },
    {
      "cell_type": "code",
      "execution_count": 96,
      "id": "4a822a5a",
      "metadata": {
        "scrolled": false,
        "colab": {
          "base_uri": "https://localhost:8080/"
        },
        "id": "4a822a5a",
        "outputId": "e677bdac-039b-4e23-b22a-0b844f9febea"
      },
      "outputs": [
        {
          "output_type": "execute_result",
          "data": {
            "text/plain": [
              "{'data': {'ids': None,\n",
              "  'features':        Area   Perimeter  Major_Axis_Length  Minor_Axis_Length  Eccentricity  \\\n",
              "  0     15231  525.578979         229.749878          85.093788      0.928882   \n",
              "  1     14656  494.311005         206.020065          91.730972      0.895405   \n",
              "  2     14634  501.122009         214.106781          87.768288      0.912118   \n",
              "  3     13176  458.342987         193.337387          87.448395      0.891861   \n",
              "  4     14688  507.166992         211.743378          89.312454      0.906691   \n",
              "  ...     ...         ...                ...                ...           ...   \n",
              "  3805  11441  415.858002         170.486771          85.756592      0.864280   \n",
              "  3806  11625  421.390015         167.714798          89.462570      0.845850   \n",
              "  3807  12437  442.498993         183.572922          86.801979      0.881144   \n",
              "  3808   9882  392.296997         161.193985          78.210480      0.874406   \n",
              "  3809  11434  404.709992         161.079269          90.868195      0.825692   \n",
              "  \n",
              "        Convex_Area    Extent  \n",
              "  0           15617  0.572896  \n",
              "  1           15072  0.615436  \n",
              "  2           14954  0.693259  \n",
              "  3           13368  0.640669  \n",
              "  4           15262  0.646024  \n",
              "  ...           ...       ...  \n",
              "  3805        11628  0.681012  \n",
              "  3806        11904  0.694279  \n",
              "  3807        12645  0.626739  \n",
              "  3808        10097  0.659064  \n",
              "  3809        11591  0.802949  \n",
              "  \n",
              "  [3810 rows x 7 columns],\n",
              "  'targets':          Class\n",
              "  0       Cammeo\n",
              "  1       Cammeo\n",
              "  2       Cammeo\n",
              "  3       Cammeo\n",
              "  4       Cammeo\n",
              "  ...        ...\n",
              "  3805  Osmancik\n",
              "  3806  Osmancik\n",
              "  3807  Osmancik\n",
              "  3808  Osmancik\n",
              "  3809  Osmancik\n",
              "  \n",
              "  [3810 rows x 1 columns],\n",
              "  'original':        Area   Perimeter  Major_Axis_Length  Minor_Axis_Length  Eccentricity  \\\n",
              "  0     15231  525.578979         229.749878          85.093788      0.928882   \n",
              "  1     14656  494.311005         206.020065          91.730972      0.895405   \n",
              "  2     14634  501.122009         214.106781          87.768288      0.912118   \n",
              "  3     13176  458.342987         193.337387          87.448395      0.891861   \n",
              "  4     14688  507.166992         211.743378          89.312454      0.906691   \n",
              "  ...     ...         ...                ...                ...           ...   \n",
              "  3805  11441  415.858002         170.486771          85.756592      0.864280   \n",
              "  3806  11625  421.390015         167.714798          89.462570      0.845850   \n",
              "  3807  12437  442.498993         183.572922          86.801979      0.881144   \n",
              "  3808   9882  392.296997         161.193985          78.210480      0.874406   \n",
              "  3809  11434  404.709992         161.079269          90.868195      0.825692   \n",
              "  \n",
              "        Convex_Area    Extent     Class  \n",
              "  0           15617  0.572896    Cammeo  \n",
              "  1           15072  0.615436    Cammeo  \n",
              "  2           14954  0.693259    Cammeo  \n",
              "  3           13368  0.640669    Cammeo  \n",
              "  4           15262  0.646024    Cammeo  \n",
              "  ...           ...       ...       ...  \n",
              "  3805        11628  0.681012  Osmancik  \n",
              "  3806        11904  0.694279  Osmancik  \n",
              "  3807        12645  0.626739  Osmancik  \n",
              "  3808        10097  0.659064  Osmancik  \n",
              "  3809        11591  0.802949  Osmancik  \n",
              "  \n",
              "  [3810 rows x 8 columns],\n",
              "  'headers': Index(['Area', 'Perimeter', 'Major_Axis_Length', 'Minor_Axis_Length',\n",
              "         'Eccentricity', 'Convex_Area', 'Extent', 'Class'],\n",
              "        dtype='object')},\n",
              " 'metadata': {'uci_id': 545,\n",
              "  'name': 'Rice (Cammeo and Osmancik)',\n",
              "  'repository_url': 'https://archive.ics.uci.edu/dataset/545/rice+cammeo+and+osmancik',\n",
              "  'data_url': 'https://archive.ics.uci.edu/static/public/545/data.csv',\n",
              "  'abstract': \"A total of 3810 rice grain's images were taken for the two species, processed and feature inferences were made. 7 morphological features were obtained for each grain of rice.\",\n",
              "  'area': 'Biology',\n",
              "  'tasks': ['Classification'],\n",
              "  'characteristics': ['Multivariate'],\n",
              "  'num_instances': 3810,\n",
              "  'num_features': 7,\n",
              "  'feature_types': ['Real'],\n",
              "  'demographics': [],\n",
              "  'target_col': ['Class'],\n",
              "  'index_col': None,\n",
              "  'has_missing_values': 'no',\n",
              "  'missing_values_symbol': None,\n",
              "  'year_of_dataset_creation': 2019,\n",
              "  'last_updated': 'Fri Nov 03 2023',\n",
              "  'dataset_doi': '10.24432/C5MW4Z',\n",
              "  'creators': [],\n",
              "  'intro_paper': {'ID': 276,\n",
              "   'type': 'NATIVE',\n",
              "   'title': 'Classification of Rice Varieties Using Artificial Intelligence Methods',\n",
              "   'authors': 'Ilkay Cinar, M. Koklu',\n",
              "   'venue': 'International Journal of Intelligent Systems and Applications in Engineering',\n",
              "   'year': 2019,\n",
              "   'journal': None,\n",
              "   'DOI': '10.18201/ijisae.2019355381',\n",
              "   'URL': 'https://www.semanticscholar.org/paper/4e508bb906c8fdc04ead6f20bd8918fcb3605d1c',\n",
              "   'sha': None,\n",
              "   'corpus': None,\n",
              "   'arxiv': None,\n",
              "   'mag': None,\n",
              "   'acl': None,\n",
              "   'pmid': None,\n",
              "   'pmcid': None},\n",
              "  'additional_info': {'summary': \"Among  the certified rice grown in TURKEY,  the  Osmancik species, which has a large planting area since 1997 and the Cammeo species grown since 2014 have been selected for the study.  When  looking  at  the  general  characteristics  of  Osmancik species, they have a wide, long, glassy and dull appearance.  When looking at the general characteristics of the Cammeo species, they have wide and long, glassy and dull in appearance.  A total of 3810 rice grain's images were taken for the two species, processed and feature inferences were made. 7 morphological features were obtained for each grain of rice. \",\n",
              "   'purpose': None,\n",
              "   'funded_by': None,\n",
              "   'instances_represent': None,\n",
              "   'recommended_data_splits': None,\n",
              "   'sensitive_data': None,\n",
              "   'preprocessing_description': None,\n",
              "   'variable_info': '1.) Area: Returns  the  number  of  pixels  within  the boundaries of the rice grain.\\r\\n2.) Perimeter: Calculates the circumference by calculating  the  distance  between  pixels around the boundaries of the rice grain.\\r\\n3.) Major Axis Length: The longest line that can be drawn on the rice  grain,  i.e.  the  main  axis  distance, gives.\\r\\n4.) Minor Axis Length: The shortest line that can be drawn on the rice  grain,  i.e.  the  small  axis  distance, gives.\\r\\n5.) Eccentricity: It measures how round the ellipse, which has  the  same  moments  as  the  rice  grain, is.\\r\\n6.) Convex Area: Returns  the  pixel  count  of  the  smallest convex shell of the region formed by the rice grain.\\r\\n7.) Extent: Returns the ratio of the regionformed by the rice grain to the bounding box pixels.\\r\\n8.) Class: Cammeo and Osmancik rices',\n",
              "   'citation': None}},\n",
              " 'variables':                 name     role        type demographic  \\\n",
              " 0               Area  Feature     Integer        None   \n",
              " 1          Perimeter  Feature  Continuous        None   \n",
              " 2  Major_Axis_Length  Feature  Continuous        None   \n",
              " 3  Minor_Axis_Length  Feature  Continuous        None   \n",
              " 4       Eccentricity  Feature  Continuous        None   \n",
              " 5        Convex_Area  Feature     Integer        None   \n",
              " 6             Extent  Feature  Continuous        None   \n",
              " 7              Class   Target      Binary        None   \n",
              " \n",
              "                                          description units missing_values  \n",
              " 0  Returns the number of pixels within the bounda...    px             no  \n",
              " 1  Calculates the circumference by calculating th...    px             no  \n",
              " 2  The longest line that can be drawn on the rice...  None             no  \n",
              " 3  The shortest line that can be drawn on the ric...  None             no  \n",
              " 4  It measures how round the ellipse, which has t...  None             no  \n",
              " 5  Returns the pixel count of the smallest convex...  None             no  \n",
              " 6  Returns the ratio of the region formed by the ...  None             no  \n",
              " 7                                Cammeo and Osmancik  None             no  }"
            ]
          },
          "metadata": {},
          "execution_count": 96
        }
      ],
      "source": [
        "from ucimlrepo import fetch_ucirepo\n",
        "from sklearn.preprocessing import LabelEncoder\n",
        "from sklearn.preprocessing import StandardScaler\n",
        "\n",
        "rice = fetch_ucirepo(id=545)\n",
        "rice"
      ]
    },
    {
      "cell_type": "code",
      "source": [
        "X = rice.data.features\n",
        "y = rice.data.targets\n",
        "\n",
        "#видим, что у нас бин классификация\n",
        "y['Class'].unique()"
      ],
      "metadata": {
        "colab": {
          "base_uri": "https://localhost:8080/"
        },
        "id": "NnBbMVyDMLGT",
        "outputId": "1d8eb1a4-91af-4e06-dee5-87ef997af937"
      },
      "id": "NnBbMVyDMLGT",
      "execution_count": 97,
      "outputs": [
        {
          "output_type": "execute_result",
          "data": {
            "text/plain": [
              "array(['Cammeo', 'Osmancik'], dtype=object)"
            ]
          },
          "metadata": {},
          "execution_count": 97
        }
      ]
    },
    {
      "cell_type": "code",
      "source": [
        "import numpy as np"
      ],
      "metadata": {
        "id": "M_Y43tW0MttP"
      },
      "id": "M_Y43tW0MttP",
      "execution_count": 98,
      "outputs": []
    },
    {
      "cell_type": "code",
      "source": [
        "import numpy as np\n",
        "import pandas as pd\n",
        "from sklearn.preprocessing import LabelEncoder, StandardScaler\n",
        "\n",
        "X = np.asarray(X, dtype=np.float32)\n",
        "y = np.asarray(y).ravel()\n",
        "\n",
        "le = LabelEncoder()\n",
        "y_encoded = le.fit_transform(y)\n",
        "\n",
        "scaler = StandardScaler()\n",
        "X_scaled = scaler.fit_transform(X)\n",
        "\n",
        "print(f\"Форма данных: {X_scaled.shape}\")\n",
        "print(f\"Классы: {le.classes_}\")"
      ],
      "metadata": {
        "colab": {
          "base_uri": "https://localhost:8080/"
        },
        "id": "Gp1M4FXqMgfh",
        "outputId": "4b2d5076-ff01-4bea-ff1d-5f31e9678ce4"
      },
      "id": "Gp1M4FXqMgfh",
      "execution_count": 99,
      "outputs": [
        {
          "output_type": "stream",
          "name": "stdout",
          "text": [
            "Форма данных: (3810, 7)\n",
            "Классы: ['Cammeo' 'Osmancik']\n"
          ]
        }
      ]
    },
    {
      "cell_type": "code",
      "source": [
        "from sklearn.model_selection import train_test_split\n",
        "import torch\n",
        "\n",
        "X_train_np, X_test_np, y_train_np, y_test_np = train_test_split(\n",
        "    X_scaled, y_encoded, test_size=0.2, random_state=42\n",
        ")\n",
        "\n",
        "X_train = torch.tensor(X_train_np, dtype=torch.float32)\n",
        "X_test = torch.tensor(X_test_np, dtype=torch.float32)\n",
        "y_train = torch.tensor(y_train_np, dtype=torch.float32).unsqueeze(1)\n",
        "y_test = torch.tensor(y_test_np, dtype=torch.float32).unsqueeze(1)"
      ],
      "metadata": {
        "id": "KK2zFtzgMR0B"
      },
      "id": "KK2zFtzgMR0B",
      "execution_count": 100,
      "outputs": []
    },
    {
      "cell_type": "code",
      "execution_count": 101,
      "id": "ec538de3",
      "metadata": {
        "id": "ec538de3"
      },
      "outputs": [],
      "source": [
        "import torch.nn as nn\n",
        "\n",
        "class MLP(nn.Module):\n",
        "    def __init__(self, input_size, init_weights=None):\n",
        "        super(MLP, self).__init__()\n",
        "        self.fc1 = nn.Linear(input_size, 64)\n",
        "        self.fc2 = nn.Linear(64, 32)\n",
        "        self.fc3 = nn.Linear(32, 16)\n",
        "        self.fc4 = nn.Linear(16, 1)\n",
        "        self.relu = nn.ReLU()\n",
        "\n",
        "        if init_weights is not None:\n",
        "            if isinstance(init_weights, torch.Tensor) and init_weights.shape == self.fc1.weight.shape:\n",
        "                with torch.no_grad():\n",
        "                    self.fc1.weight = nn.Parameter(init_weights)\n",
        "\n",
        "    def forward(self, x):\n",
        "        x = self.relu(self.fc1(x))\n",
        "        x = self.relu(self.fc2(x))\n",
        "        x = self.relu(self.fc3(x))\n",
        "        x = self.fc4(x)\n",
        "        return x\n"
      ]
    },
    {
      "cell_type": "code",
      "source": [
        "from tqdm import tqdm\n",
        "import matplotlib.pyplot as plt\n",
        "\n",
        "def train_mlp(model, X_train, y_train, epochs=2000, lr=0.001):\n",
        "    criterion = nn.MSELoss()\n",
        "    optimizer = optim.Adam(model.parameters(), lr=lr)\n",
        "    losses = []\n",
        "\n",
        "    for epoch in tqdm(range(epochs), desc=\"Training MLP\"):\n",
        "        model.train()\n",
        "        y_pred = model(X_train)\n",
        "        loss = criterion(y_pred, y_train)\n",
        "        optimizer.zero_grad()\n",
        "        loss.backward()\n",
        "        optimizer.step()\n",
        "        losses.append(loss.item())\n",
        "\n",
        "    plt.plot(range(epochs), losses, label=\"MLP Loss\")\n",
        "    plt.xlabel('Epoch')\n",
        "    plt.ylabel('Loss')\n",
        "    plt.legend()\n",
        "    plt.show()\n",
        "    print(f\"Final Loss: {losses[-1]}\")\n",
        "\n",
        "    return losses"
      ],
      "metadata": {
        "id": "shT4C8KjGHCk"
      },
      "id": "shT4C8KjGHCk",
      "execution_count": 102,
      "outputs": []
    },
    {
      "cell_type": "code",
      "source": [
        "import torch.optim as optim\n",
        "\n",
        "input_size = X_train.shape[1]\n",
        "model = MLP(input_size)\n",
        "criterion = nn.MSELoss()\n",
        "optimizer = optim.Adam(model.parameters(), lr=0.001)"
      ],
      "metadata": {
        "id": "hykoZY6SGVvb"
      },
      "id": "hykoZY6SGVvb",
      "execution_count": 103,
      "outputs": []
    },
    {
      "cell_type": "code",
      "execution_count": 104,
      "id": "a99c6cc6",
      "metadata": {
        "colab": {
          "base_uri": "https://localhost:8080/",
          "height": 484
        },
        "id": "a99c6cc6",
        "outputId": "93cb8cee-06df-4ff8-fe5a-3838d86bf92b"
      },
      "outputs": [
        {
          "output_type": "stream",
          "name": "stderr",
          "text": [
            "Training MLP: 100%|██████████| 2000/2000 [00:18<00:00, 109.49it/s]\n"
          ]
        },
        {
          "output_type": "display_data",
          "data": {
            "text/plain": [
              "<Figure size 640x480 with 1 Axes>"
            ],
            "image/png": "[encoded data removed]"
          },
          "metadata": {}
        },
        {
          "output_type": "stream",
          "name": "stdout",
          "text": [
            "Final Loss: 0.03369325026869774\n"
          ]
        }
      ],
      "source": [
        "input_size = X_train.shape[1]\n",
        "model = MLP(input_size)\n",
        "\n",
        "losses = train_mlp(model, X_train, y_train)"
      ]
    },
    {
      "cell_type": "code",
      "execution_count": 106,
      "id": "ff3eb0ee",
      "metadata": {
        "colab": {
          "base_uri": "https://localhost:8080/"
        },
        "id": "ff3eb0ee",
        "outputId": "ff1cb259-5851-41a6-af9d-27c29cc19c59"
      },
      "outputs": [
        {
          "output_type": "stream",
          "name": "stdout",
          "text": [
            "Test Loss: 0.0666\n",
            "[1.0, 0.97, 0.95, 0.11, 0.96, 0.24, 0.99, -0.06, 0.01, 0.1]\n",
            "[0.0, 1.0, 1.0, 0.0, 1.0, 0.0, 1.0, 0.0, 0.0, 0.0]\n"
          ]
        }
      ],
      "source": [
        "model.eval()\n",
        "with torch.no_grad():\n",
        "    y_test_pred = model(X_test)\n",
        "    test_loss = criterion(y_test_pred, y_test)\n",
        "    print(f'Test Loss: {test_loss.item():.4f}')\n",
        "\n",
        "n = 10\n",
        "print([round(float(_[0]), 2) for _ in y_test_pred[:n]])\n",
        "print([round(float(_[0]), 2) for _ in y_test[:n]])"
      ]
    },
    {
      "cell_type": "code",
      "execution_count": 107,
      "id": "073ff26b",
      "metadata": {
        "id": "073ff26b"
      },
      "outputs": [],
      "source": [
        "import torch.nn.functional as F\n",
        "\n",
        "class RBM(nn.Module):\n",
        "    def __init__(self, visible_units, hidden_units):\n",
        "        super(RBM, self).__init__()\n",
        "        self.W = nn.Parameter(torch.randn(hidden_units, visible_units) * 0.01)\n",
        "        self.h_bias = nn.Parameter(torch.zeros(hidden_units))\n",
        "        self.v_bias = nn.Parameter(torch.zeros(visible_units))\n",
        "\n",
        "    def forward(self, v):\n",
        "        h_prob = torch.sigmoid(F.linear(v, self.W, self.h_bias))\n",
        "        h_sample = torch.bernoulli(h_prob)\n",
        "        v_reconstructed_prob = torch.sigmoid(F.linear(h_sample, self.W.t(), self.v_bias))\n",
        "        return h_prob, v_reconstructed_prob\n",
        "\n",
        "    def sample_hidden(self, v):\n",
        "        return torch.sigmoid(F.linear(v, self.W, self.h_bias))"
      ]
    },
    {
      "cell_type": "code",
      "execution_count": 108,
      "id": "d6017ccc",
      "metadata": {
        "id": "d6017ccc"
      },
      "outputs": [],
      "source": [
        "import torch.optim as optim\n",
        "import matplotlib.pyplot as plt\n",
        "from tqdm import tqdm\n",
        "\n",
        "def train_rbm(rbm, data, epochs=10, lr=0.01):\n",
        "    optimizer = optim.SGD(rbm.parameters(), lr=lr)\n",
        "    losses = []\n",
        "    pbar = tqdm(range(epochs), desc=\"Training RBM\")\n",
        "\n",
        "    for epoch in pbar:\n",
        "        epoch_loss = 0\n",
        "        for batch in data:\n",
        "            v = batch\n",
        "            h_prob, v_reconstructed = rbm(v)\n",
        "            loss = torch.mean((v - v_reconstructed) ** 2)\n",
        "\n",
        "            optimizer.zero_grad()\n",
        "            loss.backward()\n",
        "            optimizer.step()\n",
        "\n",
        "            epoch_loss += loss.item()\n",
        "        avg_loss = epoch_loss / len(data)\n",
        "        losses.append(avg_loss)\n",
        "        pbar.set_description(f\"Epoch {epoch+1}/{epochs}, Loss: {avg_loss:.4f}\")\n",
        "    plt.plot(losses, label=\"RBM Training Loss\")\n",
        "    plt.xlabel('Epoch')\n",
        "    plt.ylabel('Loss')\n",
        "    plt.title('RBM Loss Decay')\n",
        "    plt.legend()\n",
        "    plt.show()\n",
        "\n",
        "    return rbm, losses"
      ]
    },
    {
      "cell_type": "code",
      "execution_count": 109,
      "id": "d526d53e",
      "metadata": {
        "id": "d526d53e",
        "colab": {
          "base_uri": "https://localhost:8080/",
          "height": 489
        },
        "outputId": "249d7e20-af26-4e49-e63d-0d1f642a793a"
      },
      "outputs": [
        {
          "output_type": "stream",
          "name": "stderr",
          "text": [
            "Epoch 10/10, Loss: 1.2641: 100%|██████████| 10/10 [00:00<00:00, 68.82it/s]\n"
          ]
        },
        {
          "output_type": "display_data",
          "data": {
            "text/plain": [
              "<Figure size 640x480 with 1 Axes>"
            ],
            "image/png": "[encoded data removed]"
          },
          "metadata": {}
        }
      ],
      "source": [
        "visible_units = X_train.shape[1]\n",
        "hidden_units = 64\n",
        "\n",
        "rbm = RBM(visible_units, hidden_units)\n",
        "rbm, losses_rbm = train_rbm(rbm, [X_train], lr=0.001)"
      ]
    },
    {
      "cell_type": "code",
      "source": [
        "input_size = X_train.shape[1]\n",
        "rbm_hidden_weights = rbm.W\n",
        "model_pretr = MLP(input_size=visible_units, init_weights=rbm_hidden_weights)\n",
        "\n",
        "losses_pretr = train_mlp(model_pretr, X_train, y_train)"
      ],
      "metadata": {
        "colab": {
          "base_uri": "https://localhost:8080/",
          "height": 484
        },
        "id": "EbWInVBoKHbH",
        "outputId": "1260dc78-b974-460e-9318-a13ec0d2e4eb"
      },
      "id": "EbWInVBoKHbH",
      "execution_count": 110,
      "outputs": [
        {
          "output_type": "stream",
          "name": "stderr",
          "text": [
            "Training MLP: 100%|██████████| 2000/2000 [00:08<00:00, 234.48it/s]\n"
          ]
        },
        {
          "output_type": "display_data",
          "data": {
            "text/plain": [
              "<Figure size 640x480 with 1 Axes>"
            ],
            "image/png": "[encoded data removed]"
          },
          "metadata": {}
        },
        {
          "output_type": "stream",
          "name": "stdout",
          "text": [
            "Final Loss: 0.044830143451690674\n"
          ]
        }
      ]
    },
    {
      "cell_type": "code",
      "source": [
        "model.eval()\n",
        "with torch.no_grad():\n",
        "    y_test_pred = model_pretr(X_test)\n",
        "    test_loss = criterion(y_test_pred, y_test)\n",
        "    print(f'Test Loss: {test_loss.item():.4f}')\n",
        "\n",
        "n = 10\n",
        "print([round(float(_[0]), 2) for _ in y_test_pred[:n]])\n",
        "print([round(float(_[0]), 2) for _ in y_test[:n]])"
      ],
      "metadata": {
        "id": "jfu7wzj6FMP4",
        "colab": {
          "base_uri": "https://localhost:8080/"
        },
        "outputId": "60cdd088-704a-456c-909f-318408b95ac2"
      },
      "id": "jfu7wzj6FMP4",
      "execution_count": 111,
      "outputs": [
        {
          "output_type": "stream",
          "name": "stdout",
          "text": [
            "Test Loss: 0.0553\n",
            "[0.6, 0.99, 0.97, 0.15, 1.01, 0.22, 1.0, 0.07, -0.0, 0.5]\n",
            "[0.0, 1.0, 1.0, 0.0, 1.0, 0.0, 1.0, 0.0, 0.0, 0.0]\n"
          ]
        }
      ]
    },
    {
      "cell_type": "code",
      "source": [
        "plt.plot(losses, label=\"No Pretraining\")\n",
        "plt.plot(losses_pretr, label=\"With Pretraining\")\n",
        "plt.xlabel('Epoch')\n",
        "plt.ylabel('Loss')\n",
        "plt.legend()\n",
        "plt.show()"
      ],
      "metadata": {
        "colab": {
          "base_uri": "https://localhost:8080/",
          "height": 449
        },
        "id": "ONrTW_MQFkLS",
        "outputId": "aef02882-eedc-4f02-a29a-d5ffeafab854"
      },
      "id": "ONrTW_MQFkLS",
      "execution_count": 112,
      "outputs": [
        {
          "output_type": "display_data",
          "data": {
            "text/plain": [
              "<Figure size 640x480 with 1 Axes>"
            ],
            "image/png": "[encoded data removed]"
          },
          "metadata": {}
        }
      ]
    }
  ],
  "metadata": {
    "kernelspec": {
      "display_name": "Python 3 (ipykernel)",
      "language": "python",
      "name": "python3"
    },
    "language_info": {
      "codemirror_mode": {
        "name": "ipython",
        "version": 3
      },
      "file_extension": ".py",
      "mimetype": "text/x-python",
      "name": "python",
      "nbconvert_exporter": "python",
      "pygments_lexer": "ipython3",
      "version": "3.11.4"
    },
    "colab": {
      "provenance": []
    }
  },
  "nbformat": 4,
  "nbformat_minor": 5
}